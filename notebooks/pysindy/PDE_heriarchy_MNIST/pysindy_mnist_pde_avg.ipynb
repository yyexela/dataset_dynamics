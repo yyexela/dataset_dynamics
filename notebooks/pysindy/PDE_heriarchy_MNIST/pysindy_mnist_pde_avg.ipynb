{
 "cells": [
  {
   "cell_type": "markdown",
   "metadata": {},
   "source": [
    "## Imports"
   ]
  },
  {
   "cell_type": "code",
   "execution_count": null,
   "metadata": {},
   "outputs": [],
   "source": [
    "\n",
    "%load_ext autoreload\n",
    "%autoreload 2\n",
    "\n",
    "import os\n",
    "import sys\n",
    "import pickle\n",
    "import numpy as np\n",
    "import pprint as pp\n",
    "import pysindy as ps\n",
    "from scipy import fft\n",
    "from pathlib import Path\n",
    "from scipy.integrate import solve_ivp\n",
    "from sklearn.preprocessing import MinMaxScaler\n",
    "\n",
    "# Ignore matplotlib deprecation warnings\n",
    "import warnings\n",
    "warnings.filterwarnings(\"ignore\", category=UserWarning)\n",
    "\n",
    "# Seed the random number generators for reproducibility\n",
    "np.random.seed(100)\n",
    "\n",
    "# Update path to include mypkg\n",
    "sys.path.insert(0, str(Path(os.path.abspath('')).parent.parent.parent.absolute()))\n",
    "\n",
    "from src import helpers, plot_data, global_config, datasets\n",
    "config = global_config.config\n",
    "image_dir_og = config.top_dir\n",
    "\n"
   ]
  },
  {
   "cell_type": "markdown",
   "metadata": {},
   "source": [
    "## Load data (and smooth it)"
   ]
  },
  {
   "cell_type": "code",
   "execution_count": null,
   "metadata": {},
   "outputs": [],
   "source": [
    "# Hyperparameters\n",
    "\n",
    "# Initial condition parameters\n",
    "n_avg = 5 # number of curves for moving average\n",
    "u_true_cutoff = 150 # final index for MNIST propogated wave\n",
    "\n",
    "# IVP parameters\n",
    "dx = None\n",
    "x = None\n",
    "t = None\n",
    "dt = None\n"
   ]
  },
  {
   "cell_type": "code",
   "execution_count": null,
   "metadata": {},
   "outputs": [],
   "source": [
    "\n",
    "# Load the data\n",
    "dataset = \"MNIST\"\n",
    "config.top_dir = str(Path(image_dir_og).parent / \"fft_images\" / dataset)\n",
    "file = os.path.join(config.top_dir, \"pkl\", f\"{dataset.lower()}_og_integral.pkl\")\n",
    "with open(file, 'rb') as file:\n",
    "    d = pickle.load(file)\n",
    "\n",
    "# Calculate moving average\n",
    "u_total = helpers.moving_average(d['ints'],n=n_avg,axis=0)\n",
    "u_true = u_total[0:u_true_cutoff, :]\n",
    "x = np.asarray(d['r_x'])\n",
    "t_total, t_true = (np.arange(0,u_total.shape[0]) + 0., np.arange(0,u_true.shape[0]) + 0.)\n",
    "dt = 1.\n"
   ]
  },
  {
   "cell_type": "code",
   "execution_count": null,
   "metadata": {},
   "outputs": [],
   "source": [
    "\n",
    "# Plots\n",
    "plot_data.plot_surface(\n",
    "        z=u_total,x=x,y=t_total,\n",
    "        xaxis_title=\"x\", yaxis_title=\"time\", zaxis_title=\"u(t,x)\",\n",
    "        title='PDE Input (Full Data)',\n",
    "        hovertemplate='t: %{y:0.2f}<br>x: %{x:0.2f}<br> u: %{z:0.2f}<extra></extra>',\n",
    "        colorscale='agsunset'\n",
    "    )\n",
    "\n",
    "plot_data.plot_surface(\n",
    "        z=u_true, x=x, y=t_total,\n",
    "        xaxis_title=\"x\", yaxis_title=\"time\", zaxis_title=\"u(t,x)\",\n",
    "        title='PDE Input (Cropped Data)',\n",
    "        hovertemplate='t: %{y:0.2f}<br>x: %{x:0.2f}<br> u: %{z:0.2f}<extra></extra>',\n",
    "        colorscale='agsunset'\n",
    "    )\n",
    "\n",
    "# Plot slices of u\n",
    "xs = [x,x,x]\n",
    "ys = [u_true[0,:], u_true[30,:], u_true[-1,:]]\n",
    "labels = [f\"u(x,t=0)\", f\"u(x,t=30)\", f\"u(x,t={u_true.shape[0]-1})\"]\n",
    "title = \"Time slices of u(x,t)\"\n",
    "\n",
    "plot_data.plot_line(x=xs, y=ys, label=labels, title=title)\n",
    "\n"
   ]
  },
  {
   "cell_type": "markdown",
   "metadata": {},
   "source": [
    "## Rescale"
   ]
  },
  {
   "cell_type": "code",
   "execution_count": null,
   "metadata": {},
   "outputs": [],
   "source": [
    "\n",
    "x.min()\n",
    "x_scaled, x_min, x_max = helpers.min_max_fit(x, 0., 1.)\n",
    "t_scaled, t_min, t_max = helpers.min_max_fit(t_true, 0., 1.)\n",
    "u_scaled, u_min, u_max = helpers.min_max_fit(u_true, 0., 1.)\n",
    "\n",
    "plot_data.plot_surface(\n",
    "        z=u_scaled, x=x_scaled, y=t_scaled,\n",
    "        xaxis_title=\"x\", yaxis_title=\"time\", zaxis_title=\"u(t,x)\",\n",
    "        title='PDE Input (Cropped and Scaled Data)',\n",
    "        hovertemplate='t: %{y:0.2f}<br>x: %{x:0.2f}<br> u: %{z:0.2f}<extra></extra>',\n",
    "        colorscale='agsunset'\n",
    "    )\n",
    "\n",
    "x_inv = helpers.min_max_fit_inv(x_scaled, x_min, x_max, 0., 1.,)\n",
    "t_inv = helpers.min_max_fit_inv(t_scaled, t_min, t_max, 0., 1.,)\n",
    "u_inv = helpers.min_max_fit_inv(u_scaled, u_min, u_max, 0., 1.,)\n",
    "\n",
    "print(t_inv[-1] - t_inv[-2])\n",
    "\n",
    "print(\"||u_inv - u_true||_2\", np.linalg.norm(u_inv-u_true))\n"
   ]
  },
  {
   "cell_type": "markdown",
   "metadata": {},
   "source": [
    "## Feature Library"
   ]
  },
  {
   "cell_type": "code",
   "execution_count": null,
   "metadata": {},
   "outputs": [],
   "source": [
    "\n",
    "u = u_scaled; x = x_scaled; t = t_scaled;\n",
    "dx = x[1]-x[0]; dt = t[1]-t[0]\n",
    "\n",
    "dummy_u = np.random.randn(x.shape[0], t.shape[0], 1)\n",
    "\n",
    "# Define PDE library that is quadratic in u, and\n",
    "# third-order in spatial derivatives of u.\n",
    "# library_functions = [lambda x: x, lambda x: x * x]\n",
    "# library_function_names = [lambda x: x, lambda x: x + x]\n",
    "pde_lib = ps.PDELibrary(function_library=ps.PolynomialLibrary(degree=2,include_bias=False),\n",
    "                        derivative_order=4, spatial_grid=x,\n",
    "                        include_bias=True, is_uniform=True)\n",
    "\n",
    "dummy_pde_lib = pde_lib\n",
    "dummy_pde_lib.fit([dummy_u])\n",
    "feature_names = [helpers.modify_pde_sindy_out(feature) for feature in dummy_pde_lib.get_feature_names()]\n",
    "print(\"Library:\")\n",
    "print(feature_names)\n"
   ]
  },
  {
   "cell_type": "markdown",
   "metadata": {},
   "source": [
    "## Grid Search"
   ]
  },
  {
   "cell_type": "code",
   "execution_count": null,
   "metadata": {},
   "outputs": [],
   "source": [
    "\n",
    "md = helpers.pysindy_grid_search(pde_lib, u_scaled, x_scaled, t_scaled, 0.8, 30, 90, 1e-5)\n",
    "print()\n",
    "pp.pprint(md)\n"
   ]
  },
  {
   "cell_type": "markdown",
   "metadata": {},
   "source": [
    "# Propagate"
   ]
  },
  {
   "cell_type": "markdown",
   "metadata": {},
   "source": [
    "## Hyperparameters"
   ]
  },
  {
   "cell_type": "code",
   "execution_count": null,
   "metadata": {},
   "outputs": [],
   "source": [
    "# Initial condition parameters\n",
    "u0_idx = 81 # index for u0\n",
    "u_true_cutoff = 150 # final index for MNIST propogated wave\n",
    "\n",
    "# FFT and IVP parameters\n",
    "L=5\n",
    "n=512\n",
    "x2=np.linspace(-L/2,L/2,n+1)\n",
    "x=x2[1:n+1]\n",
    "dx = x_scaled[1] - x_scaled[0] + 0.\n",
    "k=(2.*np.pi*fft.fftfreq(n)*n/L)\n",
    "k2=fft.fftshift(k)\n",
    "t = np.arange(t_scaled[0], t_scaled[-1]*3+dt, dt)\n",
    "\n",
    "# PDE parameters\n",
    "alpha = -11.91553\n",
    "beta = 20.48636\n",
    "\n"
   ]
  },
  {
   "cell_type": "markdown",
   "metadata": {},
   "source": [
    "## Interpolate"
   ]
  },
  {
   "cell_type": "code",
   "execution_count": null,
   "metadata": {},
   "outputs": [],
   "source": [
    "\n",
    "\n",
    "# Interpolate\n",
    "u_interp = helpers.interpolate(u_scaled, x_scaled, x, 0)\n",
    "\n",
    "# Get gaussians of raw MNIST data\n",
    "means, stdevs, amps, gaussians = helpers.fit_gaussians(u_interp, x, 0)\n",
    "u0 = gaussians[u0_idx]\n",
    "\n",
    "\n"
   ]
  },
  {
   "cell_type": "code",
   "execution_count": null,
   "metadata": {},
   "outputs": [],
   "source": [
    "\n",
    "# Plot\n",
    "\n",
    "xs = [x_scaled,x,x]\n",
    "ys = [u_scaled[u0_idx,:], u_interp[u0_idx,:], u0]\n",
    "labels = [f\"u_scaled\", f\"u_interp\", f\"u_gassuan\"]\n",
    "title = f\"Time slices of u(x,t={u0_idx})\"\n",
    "\n",
    "plot_data.plot_line(x=xs, y=ys, label=labels, title=title)\n",
    "\n"
   ]
  },
  {
   "cell_type": "markdown",
   "metadata": {},
   "source": [
    "## Solve"
   ]
  },
  {
   "cell_type": "code",
   "execution_count": null,
   "metadata": {},
   "outputs": [],
   "source": [
    "\n",
    "# Initial data\n",
    "u0_fft_in = fft.fft(u0)\n",
    "\n",
    "def og_pde_rhs(t, u_fft, k, alpha, beta):\n",
    "    # u_fft: u in frequency domain\n",
    "    # u: u in space domain\n",
    "    # u_x: u partial derivative with respect to x\n",
    "\n",
    "    u = np.real(fft.ifft(u_fft))\n",
    "\n",
    "    u_x = np.real(fft.ifft(1j * k * u_fft))\n",
    "    #u_xx = np.real(fft.ifft(-1 * k**2 * u_fft))\n",
    "    #u_xxx = np.real(fft.ifft(-1* 1j * k**3 * u_fft))\n",
    "    #u_xxxx = np.real(fft.ifft(k**4 * u_fft))\n",
    "\n",
    "    rhs = alpha*fft.fft(u * u_x) + beta*fft.fft(u**2 * u_x)\n",
    "\n",
    "    return rhs\n",
    "\n",
    "# Solve IVP\n",
    "print(t.shape)\n",
    "print(u0_idx)\n",
    "sol = solve_ivp(og_pde_rhs, (t[u0_idx], t[-1]), u0_fft_in, t_eval=t[u0_idx:], args=(k, alpha, beta))\n",
    "\n",
    "# sol.y is (512, 31)\n",
    "# ifft along axis 0 means compute the ifft each of the columns (sol.y[:,i])\n",
    "print(\"sol.y shape:\", sol.y.shape)\n",
    "print(\"last t:\", sol.t[-1])\n",
    "print(\"t range:\", t[u0_idx], t[-1])\n",
    "usol = np.real(fft.ifft(sol.y, axis=0)).T\n",
    "\n",
    "\n"
   ]
  },
  {
   "cell_type": "markdown",
   "metadata": {},
   "source": [
    "## Scale back to original sizes"
   ]
  },
  {
   "cell_type": "code",
   "execution_count": null,
   "metadata": {},
   "outputs": [],
   "source": [
    "\n",
    "x_inv = helpers.min_max_fit_inv(x, x_min, x_max, 0., 1.,)\n",
    "t_inv = helpers.min_max_fit_inv(t, t_min, t_max, 0., 1.,)\n",
    "u_inv = helpers.min_max_fit_inv(usol, u_min, u_max, 0., 1.,)\n"
   ]
  },
  {
   "cell_type": "markdown",
   "metadata": {},
   "source": [
    "## Plot"
   ]
  },
  {
   "cell_type": "code",
   "execution_count": null,
   "metadata": {},
   "outputs": [],
   "source": [
    "\n",
    "plot_data.plot_surface(\n",
    "        z=u_inv, x=x_inv,y=t_inv[u0_idx:],\n",
    "        xaxis_title=\"x\", yaxis_title=\"time\", zaxis_title=\"u(t,x)\",\n",
    "        title='PDE Solution',\n",
    "        hovertemplate='t: %{y:0.2f}<br>x: %{x:0.2f}<br> u: %{z:0.2f}<extra></extra>',\n",
    "        colorscale='agsunset'\n",
    "    )\n",
    "\n"
   ]
  },
  {
   "cell_type": "markdown",
   "metadata": {},
   "source": []
  },
  {
   "cell_type": "markdown",
   "metadata": {},
   "source": []
  }
 ],
 "metadata": {
  "kernelspec": {
   "display_name": "research2",
   "language": "python",
   "name": "python3"
  },
  "language_info": {
   "codemirror_mode": {
    "name": "ipython",
    "version": 3
   },
   "file_extension": ".py",
   "mimetype": "text/x-python",
   "name": "python",
   "nbconvert_exporter": "python",
   "pygments_lexer": "ipython3",
   "version": "3.10.14"
  }
 },
 "nbformat": 4,
 "nbformat_minor": 2
}
