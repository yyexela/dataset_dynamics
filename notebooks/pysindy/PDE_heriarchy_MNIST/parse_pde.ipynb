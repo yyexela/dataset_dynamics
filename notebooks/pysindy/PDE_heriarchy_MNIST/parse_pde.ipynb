{
 "cells": [
  {
   "cell_type": "markdown",
   "metadata": {},
   "source": [
    "## Imports"
   ]
  },
  {
   "cell_type": "code",
   "execution_count": null,
   "metadata": {},
   "outputs": [],
   "source": [
    "\n",
    "\n",
    "%load_ext autoreload\n",
    "%autoreload 2\n",
    "\n",
    "import os\n",
    "import sys\n",
    "import pickle\n",
    "import numpy as np\n",
    "import pprint as pp\n",
    "import pysindy as ps\n",
    "from pathlib import Path\n",
    "from sklearn.preprocessing import MinMaxScaler\n",
    "\n",
    "# Ignore matplotlib deprecation warnings\n",
    "import warnings\n",
    "warnings.filterwarnings(\"ignore\", category=UserWarning)\n",
    "\n",
    "# Seed the random number generators for reproducibility\n",
    "np.random.seed(100)\n",
    "\n",
    "# Update path to include mypkg\n",
    "mypkg_path = str(Path(os.path.abspath('')).parent.parent.parent.absolute())\n",
    "print(mypkg_path)\n",
    "sys.path.insert(0, mypkg_path)\n",
    "\n",
    "from src import helpers, plot_data, global_config, datasets\n",
    "config = global_config.config\n",
    "image_dir_og = config.top_dir\n"
   ]
  },
  {
   "cell_type": "markdown",
   "metadata": {},
   "source": [
    "## Load data"
   ]
  },
  {
   "cell_type": "code",
   "execution_count": null,
   "metadata": {},
   "outputs": [],
   "source": [
    "\n",
    "dataset = \"MNIST\"\n",
    "config.top_dir = str(Path(image_dir_og).parent / \"fft_images\" / dataset)\n",
    "\n",
    "print(\"pde_surface_dict.pkl:\")\n",
    "file = os.path.join(config.top_dir, \"pkl\", f\"pde_surface_dict.pkl\")\n",
    "with open(file, 'rb') as file:\n",
    "    pde_surface_dict = pickle.load(file)\n",
    "\n",
    "pp.pprint(pde_surface_dict.keys())\n",
    "\n",
    "pde_lib = pde_surface_dict[\"pde_lib\"]\n",
    "u_train = pde_surface_dict[\"u_train\"]\n",
    "print(u_train.shape)\n",
    "print(type(u_train))\n",
    "dt = pde_surface_dict[\"dt\"]\n",
    "\n",
    "for n_terms in pde_surface_dict.keys():\n",
    "\n",
    "    if n_terms == \"pde_lib\" or\\\n",
    "       n_terms == \"u_train\" or\\\n",
    "       n_terms == \"dt\":\n",
    "        continue\n",
    "\n",
    "    threshold, alpha, _ = pde_surface_dict[n_terms]\n",
    "    optimizer = ps.STLSQ(threshold=threshold, alpha=alpha, normalize_columns=True)\n",
    "    model = ps.SINDy(feature_library=pde_lib, optimizer=optimizer)\n",
    "    model.fit(u_train, t=dt)\n",
    "    model.print()\n"
   ]
  }
 ],
 "metadata": {
  "kernelspec": {
   "display_name": "research2",
   "language": "python",
   "name": "python3"
  },
  "language_info": {
   "codemirror_mode": {
    "name": "ipython",
    "version": 3
   },
   "file_extension": ".py",
   "mimetype": "text/x-python",
   "name": "python",
   "nbconvert_exporter": "python",
   "pygments_lexer": "ipython3",
   "version": "3.10.14"
  }
 },
 "nbformat": 4,
 "nbformat_minor": 2
}
