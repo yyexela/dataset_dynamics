{
 "cells": [
  {
   "cell_type": "markdown",
   "metadata": {},
   "source": [
    "## Imports"
   ]
  },
  {
   "cell_type": "code",
   "execution_count": null,
   "metadata": {},
   "outputs": [],
   "source": [
    "\n",
    "%load_ext autoreload\n",
    "%autoreload 2\n",
    "\n",
    "import os\n",
    "import sys\n",
    "import pickle\n",
    "import numpy as np\n",
    "import pprint as pp\n",
    "import pysindy as ps\n",
    "from pathlib import Path\n",
    "from scipy import fft\n",
    "from scipy.integrate import solve_ivp\n",
    "from scipy.signal import savgol_coeffs, savgol_filter\n",
    "from sklearn.preprocessing import MinMaxScaler\n",
    "\n",
    "# Ignore matplotlib deprecation warnings\n",
    "import warnings\n",
    "warnings.filterwarnings(\"ignore\", category=UserWarning)\n",
    "\n",
    "# Seed the random number generators for reproducibility\n",
    "np.random.seed(100)\n",
    "\n",
    "# Update path to include mypkg\n",
    "mypkg_path = str(Path(os.path.abspath('')).parent.parent.parent.absolute())\n",
    "sys.path.insert(0, mypkg_path)\n",
    "\n",
    "from src import helpers, plot_data, global_config, datasets\n",
    "config = global_config.config\n",
    "image_dir_og = config.top_dir\n",
    "\n"
   ]
  },
  {
   "cell_type": "markdown",
   "metadata": {},
   "source": [
    "## Load data (and smooth it)"
   ]
  },
  {
   "cell_type": "code",
   "execution_count": null,
   "metadata": {},
   "outputs": [],
   "source": [
    "# Hyperparameters\n",
    "\n",
    "# Initial condition parameters\n",
    "n_avg = 10 # number of curves for moving average\n",
    "u_true_cutoff = 800 # final index for MNIST propogated wave\n",
    "u_true_start = 60\n",
    "\n",
    "# IVP parameters\n",
    "dx = None\n",
    "x = None\n",
    "t = None\n",
    "dt = None\n"
   ]
  },
  {
   "cell_type": "code",
   "execution_count": null,
   "metadata": {},
   "outputs": [],
   "source": [
    "\n",
    "# Load the data\n",
    "dataset = \"STL10\"\n",
    "config.top_dir = str(Path(image_dir_og).parent / \"fft_images\" / dataset)\n",
    "file = os.path.join(config.top_dir, \"pkl\", f\"{dataset.lower()}_og_integral.pkl\")\n",
    "with open(file, 'rb') as file:\n",
    "    d = pickle.load(file)\n",
    "\n",
    "# Calculate moving average\n",
    "u_total = helpers.moving_average(d['ints'],n=n_avg,axis=0)\n",
    "u_true = u_total[u_true_start:u_true_cutoff, :]\n",
    "x = np.asarray(d['r_x'])\n",
    "t_total, t_true = (np.arange(0,u_total.shape[0]) + 0., np.arange(0,u_true.shape[0]) + 0.)\n",
    "dt = 1.\n"
   ]
  },
  {
   "cell_type": "code",
   "execution_count": null,
   "metadata": {},
   "outputs": [],
   "source": [
    "\n",
    "# Plots\n",
    "plot_data.plot_surface(\n",
    "        z=u_total,x=x,y=t_total,\n",
    "        xaxis_title=\"x\", yaxis_title=\"time\", zaxis_title=\"u(t,x)\",\n",
    "        title='PDE Input (Full Data)',\n",
    "        hovertemplate='t: %{y:0.2f}<br>x: %{x:0.2f}<br> u: %{z:0.2f}<extra></extra>',\n",
    "        colorscale='agsunset'\n",
    "    )\n",
    "\n",
    "plot_data.plot_surface(\n",
    "        z=u_true, x=x, y=t_total,\n",
    "        xaxis_title=\"x\", yaxis_title=\"time\", zaxis_title=\"u(t,x)\",\n",
    "        title='PDE Input (Cropped Data)',\n",
    "        hovertemplate='t: %{y:0.2f}<br>x: %{x:0.2f}<br> u: %{z:0.2f}<extra></extra>',\n",
    "        colorscale='agsunset'\n",
    "    )\n",
    "\n",
    "# Plot slices of u\n",
    "xs = [x,x,x]\n",
    "ys = [u_true[0,:], u_true[30,:], u_true[-1,:]]\n",
    "labels = [f\"u(x,t=0)\", f\"u(x,t=30)\", f\"u(x,t={u_true.shape[0]-1})\"]\n",
    "title = \"Time slices of u(x,t)\"\n",
    "\n",
    "plot_data.plot_line(x=xs, y=ys, label=labels, title=title)\n",
    "\n"
   ]
  },
  {
   "cell_type": "markdown",
   "metadata": {},
   "source": [
    "## Smoothing (Savitzky Golay)"
   ]
  },
  {
   "cell_type": "code",
   "execution_count": null,
   "metadata": {},
   "outputs": [],
   "source": [
    "\n",
    "u_interp = list()\n",
    "t=60\n",
    "u_savgol = savgol_filter(u_true[t,:], 4, 3, mode='nearest')\n",
    "\n",
    "xs = [x,x]\n",
    "ys = [u_true[t,:], u_savgol]\n",
    "labels = [f\"u(x,t={t})\", f\"u_savgol(x,t={t})\"]\n",
    "title = \"Savgol filter example\"\n",
    "\n",
    "plot_data.plot_line(x=xs, y=ys, label=labels, title=title)\n"
   ]
  },
  {
   "cell_type": "code",
   "execution_count": null,
   "metadata": {},
   "outputs": [],
   "source": [
    "\n",
    "u_interp = list()\n",
    "x_interp = x\n",
    "\n",
    "for t_idx in range(u_true.shape[0]):\n",
    "    u_savgol = savgol_filter(u_true[t_idx,:], 4, 3, mode='nearest')\n",
    "    u_interp.append(u_savgol)\n",
    "u_interp = np.stack(u_interp)\n",
    "\n",
    "plot_data.plot_surface(\n",
    "        z=u_interp, x=x_interp, y=t_true,\n",
    "        xaxis_title=\"x\", yaxis_title=\"time\", zaxis_title=\"u(t,x)\",\n",
    "        title='PDE Input (Smoothed with SG)',\n",
    "        hovertemplate='t: %{y:0.2f}<br>x: %{x:0.2f}<br> u: %{z:0.2f}<extra></extra>',\n",
    "        colorscale='agsunset'\n",
    "    )\n"
   ]
  },
  {
   "cell_type": "markdown",
   "metadata": {},
   "source": [
    "## Rescale"
   ]
  },
  {
   "cell_type": "code",
   "execution_count": null,
   "metadata": {},
   "outputs": [],
   "source": [
    "\n",
    "x_scaled, x_min, x_max = helpers.min_max_fit(x_interp)\n",
    "t_scaled, t_min, t_max = helpers.min_max_fit(t_true)\n",
    "u_scaled, u_min, u_max = helpers.min_max_fit(u_interp)\n",
    "\n",
    "plot_data.plot_surface(\n",
    "        z=u_scaled, x=x_scaled, y=t_scaled,\n",
    "        xaxis_title=\"x\", yaxis_title=\"time\", zaxis_title=\"u(t,x)\",\n",
    "        title='PDE Input (Cropped, SG, and Scaled Data)',\n",
    "        hovertemplate='t: %{y:0.2f}<br>x: %{x:0.2f}<br> u: %{z:0.2f}<extra></extra>',\n",
    "        colorscale='agsunset'\n",
    "    )\n",
    "\n",
    "x_inv = helpers.min_max_fit_inv(x_scaled, x_min, x_max, 0., 1.,)\n",
    "t_inv = helpers.min_max_fit_inv(t_scaled, t_min, t_max, 0., 1.,)\n",
    "u_inv = helpers.min_max_fit_inv(u_scaled, u_min, u_max, 0., 1.,)\n",
    "\n",
    "print(\"||u_inv - u_true||_2\", np.linalg.norm(u_inv-u_interp))\n"
   ]
  },
  {
   "cell_type": "markdown",
   "metadata": {},
   "source": [
    "## Feature Library"
   ]
  },
  {
   "cell_type": "code",
   "execution_count": null,
   "metadata": {},
   "outputs": [],
   "source": [
    "\n",
    "u = u_scaled; x = x_scaled; t = t_scaled;\n",
    "dx = x[1]-x[0]; dt = t[1]-t[0]\n",
    "\n",
    "dummy_u = np.random.randn(x.shape[0], t.shape[0], 1)\n",
    "\n",
    "# Define PDE library that is quadratic in u, and\n",
    "# third-order in spatial derivatives of u.\n",
    "# library_functions = [lambda x: x, lambda x: x * x]\n",
    "# library_function_names = [lambda x: x, lambda x: x + x]\n",
    "pde_lib = ps.PDELibrary(function_library=ps.PolynomialLibrary(degree=2,include_bias=False),\n",
    "                        derivative_order=4, spatial_grid=x,\n",
    "                        include_bias=True, is_uniform=True)\n",
    "\n",
    "dummy_pde_lib = pde_lib\n",
    "dummy_pde_lib.fit([dummy_u])\n",
    "feature_names = [helpers.modify_pde_sindy_out(feature) for feature in dummy_pde_lib.get_feature_names()]\n",
    "print(\"Library:\")\n",
    "print(feature_names)\n"
   ]
  },
  {
   "cell_type": "markdown",
   "metadata": {},
   "source": [
    "## Grid Search"
   ]
  },
  {
   "cell_type": "code",
   "execution_count": null,
   "metadata": {},
   "outputs": [],
   "source": [
    "\n",
    "md = helpers.pysindy_grid_search(pde_lib, u_scaled, x_scaled, t_scaled, 0.8, 50, 180, 1e-5)\n",
    "print()\n",
    "pp.pprint(md)\n"
   ]
  },
  {
   "cell_type": "markdown",
   "metadata": {},
   "source": []
  }
 ],
 "metadata": {
  "kernelspec": {
   "display_name": "research2",
   "language": "python",
   "name": "python3"
  },
  "language_info": {
   "codemirror_mode": {
    "name": "ipython",
    "version": 3
   },
   "file_extension": ".py",
   "mimetype": "text/x-python",
   "name": "python",
   "nbconvert_exporter": "python",
   "pygments_lexer": "ipython3",
   "version": "3.10.14"
  }
 },
 "nbformat": 4,
 "nbformat_minor": 2
}
