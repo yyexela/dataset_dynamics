{
 "cells": [
  {
   "cell_type": "markdown",
   "metadata": {},
   "source": [
    "## Description\n",
    "\n",
    "Notebook playing around with converting radial integrals to gaussian as a preprocessing step."
   ]
  },
  {
   "cell_type": "markdown",
   "metadata": {},
   "source": [
    "## Imports"
   ]
  },
  {
   "cell_type": "code",
   "execution_count": null,
   "metadata": {},
   "outputs": [],
   "source": [
    "\n",
    "%load_ext autoreload\n",
    "%autoreload 2\n",
    "\n",
    "import sys\n",
    "import os\n",
    "from pathlib import Path\n",
    "import matplotlib.pyplot as plt\n",
    "from mpl_toolkits.mplot3d import Axes3D\n",
    "import numpy as np\n",
    "from sklearn.linear_model import Lasso\n",
    "from scipy.integrate import solve_ivp, odeint\n",
    "import numpy as np\n",
    "from scipy.sparse import diags\n",
    "from scipy.optimize import curve_fit\n",
    "import matplotlib.pyplot as plt\n",
    "import pysindy as ps\n",
    "import pickle\n",
    "\n",
    "# Ignore matplotlib deprecation warnings\n",
    "import warnings\n",
    "warnings.filterwarnings(\"ignore\", category=UserWarning)\n",
    "\n",
    "# Seed the random number generators for reproducibility\n",
    "np.random.seed(100)\n",
    "\n",
    "integrator_keywords = {}\n",
    "integrator_keywords['rtol'] = 1e-12\n",
    "integrator_keywords['method'] = 'LSODA'\n",
    "integrator_keywords['atol'] = 1e-12\n",
    "\n",
    "# Update path to include mypkg\n",
    "sys.path.insert(0, str(Path(os.path.abspath('')).parent.parent.absolute()))\n",
    "\n",
    "from src import helpers, plot_data, global_config, datasets\n",
    "config = global_config.config\n",
    "image_dir_og = config.jpg_dir\n",
    "\n",
    "%matplotlib inline\n",
    "\n"
   ]
  },
  {
   "cell_type": "markdown",
   "metadata": {},
   "source": [
    "## Define gaussian"
   ]
  },
  {
   "cell_type": "code",
   "execution_count": null,
   "metadata": {},
   "outputs": [],
   "source": [
    "def gaussian(x, mu, sigma, a):\n",
    "    return a * 1.0 / (np.sqrt(2.0 * np.pi) * sigma) * np.exp(-np.power((x - mu) / sigma, 2.0) / 2)"
   ]
  },
  {
   "cell_type": "markdown",
   "metadata": {},
   "source": [
    "## Load data (and smooth it)"
   ]
  },
  {
   "cell_type": "code",
   "execution_count": null,
   "metadata": {},
   "outputs": [],
   "source": [
    "\n",
    "# Load the data\n",
    "dataset_path = \"MNIST_Test\"\n",
    "dataset_name = \"MNIST\"\n",
    "config.top_dir = str(Path(image_dir_og).parent / \"fft_images\" / dataset_path)\n",
    "file = os.path.join(config.top_dir, \"pkl\", f\"{dataset_name}_og_integral.pkl\")\n",
    "with open(file, 'rb') as file:\n",
    "    d = pickle.load(file)\n"
   ]
  },
  {
   "cell_type": "code",
   "execution_count": null,
   "metadata": {},
   "outputs": [],
   "source": [
    "\n",
    "# Load the data stored in a matlab .mat file\n",
    "u = helpers.moving_average(d['ints'],n=5,axis=0)\n",
    "u = u[0:150,:]\n",
    "t = np.arange(u.shape[0])\n",
    "x = d['r_x']\n",
    "u = u.T\n",
    "\n",
    "dt = t[1] - t[0]\n",
    "dt = dt.astype(float)\n",
    "dx = x[1] - x[0]\n",
    "dx = float(dx)\n",
    "\n",
    "means = list()\n",
    "stdevs = list()\n",
    "gaussians = list()\n",
    "\n",
    "# Fit gaussians\n",
    "for idx in range(u.shape[1]):\n",
    "    ux = u[:,idx]\n",
    "    popt, pcov = curve_fit(gaussian, x, ux)\n",
    "    mu = popt[0]\n",
    "    sigma = popt[1]\n",
    "    amplitude = popt[2]\n",
    "\n",
    "    means.append(mu)\n",
    "    stdevs.append(sigma)\n",
    "    gaussians.append(gaussian(x, mu, sigma, amplitude))\n",
    "\n",
    "means = np.asarray(means)\n",
    "stdevs = np.asarray(stdevs)\n",
    "gaussians = np.stack(gaussians)\n",
    "gaussians = gaussians.T\n",
    "\n",
    "print(u.shape)\n",
    "print(gaussians.shape)\n",
    "\n",
    "# Plot u, fitted gaussians, mean, and stdev\n",
    "\n",
    "nrows = 3\n",
    "ncols = 2\n",
    "\n",
    "plt.figure(figsize=(4*ncols, 4*nrows))\n",
    "plt.subplot(nrows, ncols, 1)\n",
    "plt.pcolormesh(t, x, u)\n",
    "plt.xlabel('t', fontsize=16)\n",
    "plt.ylabel('x', fontsize=16)\n",
    "plt.title(r'$u(x, t)$', fontsize=16)\n",
    "\n",
    "plt.subplot(nrows, ncols, 2)\n",
    "plt.pcolormesh(t, x, gaussians)\n",
    "plt.xlabel('t', fontsize=16)\n",
    "plt.ylabel('x', fontsize=16)\n",
    "plt.title(r'gaussians', fontsize=16)\n",
    "\n",
    "plt.subplot(nrows, ncols, 3)\n",
    "plt.plot(x, u[:,-1], 'k')\n",
    "plt.xlabel('t', fontsize=16)\n",
    "plt.ylabel('x', fontsize=16)\n",
    "plt.title(r'$u(x, t=-1)$', fontsize=16)\n",
    "\n",
    "plt.subplot(nrows, ncols, 4)\n",
    "plt.plot(x, gaussians[:,-1], 'r')\n",
    "plt.xlabel('t', fontsize=16)\n",
    "plt.ylabel('x', fontsize=16)\n",
    "plt.title(r'corresponding gaussian', fontsize=16)\n",
    "\n",
    "plt.subplot(nrows, ncols, 5)\n",
    "plt.plot(t, means, 'r')\n",
    "plt.fill_between(t, means+stdevs, means-stdevs, facecolor='red', alpha=0.25)\n",
    "plt.xlabel('t', fontsize=16)\n",
    "plt.ylabel('x', fontsize=16)\n",
    "plt.title(r'gaussian means', fontsize=16)\n",
    "\n",
    "plt.subplot(nrows, ncols, 6)\n",
    "plt.xlabel('t', fontsize=16)\n",
    "plt.ylabel('x', fontsize=16)\n",
    "\n",
    "colors = plt.cm.plasma(np.linspace(0.,1.,u.shape[1]))\n",
    "for i, color in enumerate(colors):\n",
    "    plt.plot(x, u[:,i], label=f\"$u_{{{i}}}$\", color=color)\n",
    "plt.ylim(auto=True)\n",
    "\n",
    "plt.title(r'u(x,t)', fontsize=16)\n",
    "\n",
    "plt.tight_layout()\n",
    "plt.show()\n",
    "plt.close()"
   ]
  }
 ],
 "metadata": {
  "kernelspec": {
   "display_name": ".venv",
   "language": "python",
   "name": "python3"
  },
  "language_info": {
   "codemirror_mode": {
    "name": "ipython",
    "version": 3
   },
   "file_extension": ".py",
   "mimetype": "text/x-python",
   "name": "python",
   "nbconvert_exporter": "python",
   "pygments_lexer": "ipython3",
   "version": "3.13.3"
  }
 },
 "nbformat": 4,
 "nbformat_minor": 2
}
