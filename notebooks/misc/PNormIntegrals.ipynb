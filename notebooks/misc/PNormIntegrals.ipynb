{
 "cells": [
  {
   "cell_type": "markdown",
   "metadata": {},
   "source": [
    "## Imports"
   ]
  },
  {
   "cell_type": "code",
   "execution_count": null,
   "metadata": {},
   "outputs": [],
   "source": [
    "\n",
    "%load_ext autoreload\n",
    "%autoreload 2\n",
    "\n",
    "import sys\n",
    "import os\n",
    "import pickle\n",
    "import torch\n",
    "import scipy\n",
    "import matplotlib.pyplot as plt\n",
    "from argparse import Namespace\n",
    "from pathlib import Path\n",
    "import numpy as np\n",
    "\n",
    "# Update path to include mypkg\n",
    "sys.path.insert(0, str(Path(os.path.abspath('')).parent.parent.absolute()))\n",
    "\n",
    "from src import helpers, plot_data, global_config, datasets\n",
    "config = global_config.config\n",
    "\n",
    "%matplotlib inline\n"
   ]
  },
  {
   "cell_type": "markdown",
   "metadata": {},
   "source": [
    "## Identifying FMNIST Dataset P"
   ]
  },
  {
   "cell_type": "code",
   "execution_count": null,
   "metadata": {},
   "outputs": [],
   "source": [
    "device = 'cuda:2'\n",
    "dataset = \"FMNIST\"\n",
    "dataset_size = None\n",
    "val_split = 0.0\n",
    "classes = None\n",
    "\n",
    "tX, _, shape = datasets.get_dataset(dataset=dataset,\n",
    "                                    dataset_size=dataset_size,\n",
    "                                    classes=classes,\n",
    "                                    val=False,\n",
    "                                    val_split=val_split)\n",
    "\n",
    "og_svd = torch.svd(tX)\n",
    "print(og_svd[2].size())\n"
   ]
  },
  {
   "cell_type": "code",
   "execution_count": null,
   "metadata": {},
   "outputs": [],
   "source": [
    "og_j = 300\n",
    "\n",
    "zz = og_svd[2][:,og_j].reshape(shape[0], shape[1])\n",
    "zzf = helpers.fft2d(zz, pos_freq = False, normalize = True, centering = True)\n",
    "\n",
    "plt.matshow(zzf)\n"
   ]
  },
  {
   "cell_type": "code",
   "execution_count": null,
   "metadata": {},
   "outputs": [],
   "source": [
    "\n",
    "integrals = []\n",
    "for p in np.linspace(0.8,2.0, 200):\n",
    "    for radius in np.arange(0,shape[0]+10):\n",
    "        mask = helpers.create_p_norm_mask(shape, p, radius, 2)\n",
    "        integral = np.sum(mask)\n",
    "        if integral != 0:\n",
    "            integral = np.sum(zzf*mask) / np.sum(mask)\n",
    "        integrals.append([integral, p, radius])\n",
    "integrals = np.asarray(integrals)\n",
    "\n",
    "idx = np.argmax(integrals,0)[0]\n",
    "print(idx)\n"
   ]
  },
  {
   "cell_type": "code",
   "execution_count": null,
   "metadata": {},
   "outputs": [],
   "source": [
    "p = integrals[idx,1]\n",
    "radius = integrals[idx,2]\n",
    "print(f\"p: {p}, radius: {radius}\")\n",
    "mask = helpers.create_p_norm_mask(shape, integrals[idx,1], integrals[idx,2], 1)\n",
    "plt.matshow(mask)\n"
   ]
  },
  {
   "cell_type": "code",
   "execution_count": null,
   "metadata": {},
   "outputs": [],
   "source": [
    "new_zzf = np.where(mask, np.max(zzf), zzf)\n",
    "plt.matshow(new_zzf)\n"
   ]
  },
  {
   "cell_type": "markdown",
   "metadata": {},
   "source": [
    "## Identifying MNIST Dataset P"
   ]
  },
  {
   "cell_type": "code",
   "execution_count": null,
   "metadata": {},
   "outputs": [],
   "source": [
    "\n",
    "device = 'cuda:2'\n",
    "dataset = \"MNIST\"\n",
    "dataset_size = None\n",
    "val_split = 0.0\n",
    "classes = None\n",
    "\n",
    "tX, _, shape = datasets.get_dataset(dataset=dataset,\n",
    "                                    dataset_size=dataset_size,\n",
    "                                    classes=classes,\n",
    "                                    val=False,\n",
    "                                    val_split=val_split)\n",
    "\n",
    "og_svd = torch.svd(tX)\n"
   ]
  },
  {
   "cell_type": "code",
   "execution_count": null,
   "metadata": {},
   "outputs": [],
   "source": [
    "og_j = 135\n",
    "\n",
    "zz = og_svd[2][:,og_j].reshape(shape[0], shape[1])\n",
    "zzf = helpers.fft2d(zz, pos_freq = False, normalize = True, centering = True)\n",
    "\n",
    "plt.matshow(zzf)\n"
   ]
  },
  {
   "cell_type": "code",
   "execution_count": null,
   "metadata": {},
   "outputs": [],
   "source": [
    "\n",
    "integrals = []\n",
    "for p in np.linspace(1.0,3.0, 200):\n",
    "    for radius in np.arange(0,shape[0]+10):\n",
    "        mask = helpers.create_p_norm_mask(shape, p, radius, .5)\n",
    "        integral = np.sum(mask)\n",
    "        if integral != 0:\n",
    "            integral = np.sum(zzf*mask) / np.sum(mask)\n",
    "        integrals.append([integral, p, radius])\n",
    "integrals = np.asarray(integrals)\n",
    "\n",
    "idx = np.argmax(integrals,0)[0]\n",
    "print(idx)\n"
   ]
  },
  {
   "cell_type": "code",
   "execution_count": null,
   "metadata": {},
   "outputs": [],
   "source": [
    "p = integrals[idx,1]\n",
    "radius = integrals[idx,2]\n",
    "print(f\"p: {p}, radius: {radius}\")\n",
    "mask = helpers.create_p_norm_mask(shape, integrals[idx,1], integrals[idx,2], 0.5)\n",
    "plt.matshow(mask)\n"
   ]
  },
  {
   "cell_type": "code",
   "execution_count": null,
   "metadata": {},
   "outputs": [],
   "source": [
    "new_zzf = np.where(mask, np.max(zzf), zzf)\n",
    "plt.matshow(new_zzf)\n"
   ]
  },
  {
   "cell_type": "markdown",
   "metadata": {},
   "source": [
    "## Identifying PCAM Dataset P"
   ]
  },
  {
   "cell_type": "code",
   "execution_count": null,
   "metadata": {},
   "outputs": [],
   "source": [
    "\n",
    "device = 'cuda:2'\n",
    "dataset = \"PCAM\"\n",
    "dataset_size = None\n",
    "val_split = 0.0\n",
    "classes = None\n",
    "\n",
    "tX, _, shape = datasets.get_dataset(dataset=dataset,\n",
    "                                    dataset_size=dataset_size,\n",
    "                                    classes=classes,\n",
    "                                    val=False,\n",
    "                                    val_split=val_split)\n",
    "\n",
    "og_svd = torch.svd(tX)\n",
    "\n",
    "\n"
   ]
  },
  {
   "cell_type": "code",
   "execution_count": null,
   "metadata": {},
   "outputs": [],
   "source": [
    "\n",
    "og_j = 3531\n",
    "\n",
    "zz = og_svd[2][:,og_j].reshape(shape[0], shape[1])\n",
    "zzf = helpers.fft2d(zz, pos_freq = False, normalize = True, centering = True)\n",
    "\n",
    "plt.matshow(zzf)\n",
    "\n",
    "\n"
   ]
  },
  {
   "cell_type": "code",
   "execution_count": null,
   "metadata": {},
   "outputs": [],
   "source": [
    "\n",
    "\n",
    "integrals = []\n",
    "for p in np.linspace(1.0,3.0, 200):\n",
    "    for radius in np.arange(0,shape[0]+10):\n",
    "        mask = helpers.create_p_norm_mask(shape, p, radius, .5)\n",
    "        integral = np.sum(mask)\n",
    "        if integral != 0:\n",
    "            integral = np.sum(zzf*mask) / np.sum(mask)\n",
    "        integrals.append([integral, p, radius])\n",
    "integrals = np.asarray(integrals)\n",
    "\n",
    "idx = np.argmax(integrals,0)[0]\n",
    "print(idx)\n",
    "\n",
    "\n"
   ]
  },
  {
   "cell_type": "code",
   "execution_count": null,
   "metadata": {},
   "outputs": [],
   "source": [
    "\n",
    "\n",
    "p = integrals[idx,1]\n",
    "radius = integrals[idx,2]\n",
    "print(f\"p: {p}, radius: {radius}\")\n",
    "mask = helpers.create_p_norm_mask(shape, integrals[idx,1], integrals[idx,2], 0.5)\n",
    "plt.matshow(mask)\n",
    "\n",
    "\n"
   ]
  },
  {
   "cell_type": "code",
   "execution_count": null,
   "metadata": {},
   "outputs": [],
   "source": [
    "\n",
    "new_zzf = np.where(mask, np.max(zzf), zzf)\n",
    "plt.matshow(new_zzf)\n",
    "\n",
    "\n"
   ]
  },
  {
   "cell_type": "markdown",
   "metadata": {},
   "source": [
    "## Identify EuroSAT Dataset P"
   ]
  },
  {
   "cell_type": "code",
   "execution_count": null,
   "metadata": {},
   "outputs": [],
   "source": [
    "\n",
    "device = 'cuda:2'\n",
    "dataset = \"EuroSAT\"\n",
    "dataset_size = None\n",
    "val_split = 0.0\n",
    "classes = None\n",
    "\n",
    "tX, _, shape = datasets.get_dataset(dataset=dataset,\n",
    "                                    dataset_size=dataset_size,\n",
    "                                    classes=classes,\n",
    "                                    val=False,\n",
    "                                    val_split=val_split)\n",
    "\n",
    "og_svd = torch.svd(tX)\n",
    "\n"
   ]
  },
  {
   "cell_type": "code",
   "execution_count": null,
   "metadata": {},
   "outputs": [],
   "source": [
    "\n",
    "\n",
    "og_j = 1451\n",
    "\n",
    "zz = og_svd[2][:,og_j].reshape(shape[0], shape[1])\n",
    "zzf = helpers.fft2d(zz, pos_freq = False, normalize = True, centering = True)\n",
    "\n",
    "plt.matshow(zzf)\n",
    "\n"
   ]
  },
  {
   "cell_type": "code",
   "execution_count": null,
   "metadata": {},
   "outputs": [],
   "source": [
    "\n",
    "\n",
    "integrals = []\n",
    "for p in np.linspace(1.0,3.0, 200):\n",
    "    for radius in np.arange(0,shape[0]+10):\n",
    "        mask = helpers.create_p_norm_mask(shape, p, radius, .5)\n",
    "        integral = np.sum(mask)\n",
    "        if integral != 0:\n",
    "            integral = np.sum(zzf*mask) / np.sum(mask)\n",
    "        integrals.append([integral, p, radius])\n",
    "integrals = np.asarray(integrals)\n",
    "\n",
    "idx = np.argmax(integrals,0)[0]\n",
    "print(idx)\n",
    "\n"
   ]
  },
  {
   "cell_type": "code",
   "execution_count": null,
   "metadata": {},
   "outputs": [],
   "source": [
    "\n",
    "\n",
    "p = integrals[idx,1]\n",
    "radius = integrals[idx,2]\n",
    "print(f\"p: {p}, radius: {radius}\")\n",
    "mask = helpers.create_p_norm_mask(shape, integrals[idx,1], integrals[idx,2], 0.5)\n",
    "plt.matshow(mask)\n",
    "\n"
   ]
  },
  {
   "cell_type": "code",
   "execution_count": null,
   "metadata": {},
   "outputs": [],
   "source": [
    "\n",
    "\n",
    "new_zzf = np.where(mask, np.max(zzf), zzf)\n",
    "plt.matshow(new_zzf)\n",
    "\n"
   ]
  },
  {
   "cell_type": "markdown",
   "metadata": {},
   "source": [
    "## Identify STL10 Dataset P"
   ]
  },
  {
   "cell_type": "code",
   "execution_count": null,
   "metadata": {},
   "outputs": [],
   "source": [
    "\n",
    "device = 'cuda:2'\n",
    "dataset = \"STL10\"\n",
    "dataset_size = None\n",
    "val_split = 0.0\n",
    "classes = None\n",
    "\n",
    "tX, _, shape = datasets.get_dataset(dataset=dataset,\n",
    "                                    dataset_size=dataset_size,\n",
    "                                    classes=classes,\n",
    "                                    val=False,\n",
    "                                    val_split=val_split)\n",
    "\n",
    "og_svd = torch.svd(tX)\n"
   ]
  },
  {
   "cell_type": "code",
   "execution_count": null,
   "metadata": {},
   "outputs": [],
   "source": [
    "\n",
    "og_j = 215\n",
    "\n",
    "zz = og_svd[2][:,og_j].reshape(shape[0], shape[1])\n",
    "zzf = helpers.fft2d(zz, pos_freq = False, normalize = True, centering = True)\n",
    "\n",
    "plt.matshow(zzf)\n"
   ]
  },
  {
   "cell_type": "code",
   "execution_count": null,
   "metadata": {},
   "outputs": [],
   "source": [
    "\n",
    "integrals = []\n",
    "for p in np.linspace(0.1,1.0, 100):\n",
    "    for radius in np.arange(0,shape[0]+10):\n",
    "        mask = helpers.create_p_norm_mask(shape, p, radius, 8)\n",
    "        integral = np.sum(mask)\n",
    "        if integral != 0:\n",
    "            integral = np.sum(zzf*mask) / np.sum(mask)\n",
    "        integrals.append([integral, p, radius])\n",
    "integrals = np.asarray(integrals)\n",
    "\n",
    "idx = np.argmax(integrals,0)[0]\n",
    "print(idx)\n"
   ]
  },
  {
   "cell_type": "code",
   "execution_count": null,
   "metadata": {},
   "outputs": [],
   "source": [
    "\n",
    "p = integrals[2613,1]\n",
    "p = 0.318\n",
    "radius = integrals[2613,2]\n",
    "print(f\"p: {p}, radius: {radius}\")\n",
    "mask = helpers.create_p_norm_mask(shape, integrals[2613,1], integrals[2613,2], 8)\n",
    "plt.matshow(mask)\n"
   ]
  },
  {
   "cell_type": "code",
   "execution_count": null,
   "metadata": {},
   "outputs": [],
   "source": [
    "\n",
    "new_zzf = np.where(mask, np.max(zzf), zzf)\n",
    "plt.matshow(new_zzf)\n"
   ]
  },
  {
   "cell_type": "markdown",
   "metadata": {},
   "source": [
    "## Identify CIFAR10 Dataset P"
   ]
  },
  {
   "cell_type": "code",
   "execution_count": null,
   "metadata": {},
   "outputs": [],
   "source": [
    "\n",
    "\n",
    "device = 'cuda:2'\n",
    "dataset = \"CIFAR10\"\n",
    "dataset_size = None\n",
    "val_split = 0.0\n",
    "classes = None\n",
    "\n",
    "tX, _, shape = datasets.get_dataset(dataset=dataset,\n",
    "                                    dataset_size=dataset_size,\n",
    "                                    classes=classes,\n",
    "                                    val=False,\n",
    "                                    val_split=val_split)\n",
    "\n",
    "og_svd = torch.svd(tX)\n",
    "\n"
   ]
  },
  {
   "cell_type": "code",
   "execution_count": null,
   "metadata": {},
   "outputs": [],
   "source": [
    "\n",
    "og_j = 404\n",
    "\n",
    "zz = og_svd[2][:,og_j].reshape(shape[0], shape[1])\n",
    "zzf = helpers.fft2d(zz, pos_freq = False, normalize = True, centering = True)\n",
    "\n",
    "plt.matshow(zzf)\n"
   ]
  },
  {
   "cell_type": "code",
   "execution_count": null,
   "metadata": {},
   "outputs": [],
   "source": [
    "\n",
    "\n",
    "integrals = []\n",
    "for p in np.linspace(1.0,2.0, 100):\n",
    "    for radius in np.arange(0,shape[0]+10):\n",
    "        mask = helpers.create_p_norm_mask(shape, p, radius, .5)\n",
    "        integral = np.sum(mask)\n",
    "        if integral != 0:\n",
    "            integral = np.sum(zzf*mask) / np.sum(mask)\n",
    "        integrals.append([integral, p, radius])\n",
    "integrals = np.asarray(integrals)\n",
    "\n",
    "idx = np.argmax(integrals,0)[0]\n",
    "print(idx)\n",
    "\n"
   ]
  },
  {
   "cell_type": "code",
   "execution_count": null,
   "metadata": {},
   "outputs": [],
   "source": [
    "\n",
    "p = integrals[idx,1]\n",
    "radius = integrals[idx,2]\n",
    "print(f\"p: {p}, radius: {radius}\")\n",
    "mask = helpers.create_p_norm_mask(shape, integrals[idx,1], integrals[idx,2], .5)\n",
    "plt.matshow(mask)\n",
    "\n"
   ]
  },
  {
   "cell_type": "code",
   "execution_count": null,
   "metadata": {},
   "outputs": [],
   "source": [
    "\n",
    "new_zzf = np.where(mask, np.max(zzf), zzf)\n",
    "plt.matshow(new_zzf)\n"
   ]
  },
  {
   "cell_type": "markdown",
   "metadata": {},
   "source": [
    "# P-Norm Paths"
   ]
  },
  {
   "cell_type": "markdown",
   "metadata": {},
   "source": [
    "## Create Mask"
   ]
  },
  {
   "cell_type": "code",
   "execution_count": null,
   "metadata": {},
   "outputs": [],
   "source": [
    "\n",
    "shape = (28,28)\n",
    "radius = 10\n",
    "smoothing = 0.75\n",
    "p = 0.854\n",
    "\n",
    "for radius in range(shape[0]//2):\n",
    "    mask1 = helpers.create_p_norm_mask(shape, p, radius, smoothing)\n",
    "    plt.matshow(mask1)\n",
    "    plt.show()\n",
    "    plt.close()\n",
    "\n",
    "print(\"---\")\n"
   ]
  },
  {
   "cell_type": "code",
   "execution_count": null,
   "metadata": {},
   "outputs": [],
   "source": []
  }
 ],
 "metadata": {
  "kernelspec": {
   "display_name": "research2",
   "language": "python",
   "name": "python3"
  },
  "language_info": {
   "codemirror_mode": {
    "name": "ipython",
    "version": 3
   },
   "file_extension": ".py",
   "mimetype": "text/x-python",
   "name": "python",
   "nbconvert_exporter": "python",
   "pygments_lexer": "ipython3",
   "version": "3.10.14"
  }
 },
 "nbformat": 4,
 "nbformat_minor": 2
}
