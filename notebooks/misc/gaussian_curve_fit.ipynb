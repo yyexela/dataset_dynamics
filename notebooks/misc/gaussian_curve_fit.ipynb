{
 "cells": [
  {
   "cell_type": "markdown",
   "metadata": {},
   "source": [
    "## Description\n",
    "\n",
    "This notebook just shows how to fit a Gaussian to data"
   ]
  },
  {
   "cell_type": "markdown",
   "metadata": {},
   "source": [
    "## Imports"
   ]
  },
  {
   "cell_type": "code",
   "execution_count": null,
   "metadata": {},
   "outputs": [],
   "source": [
    "\n",
    "import numpy as np\n",
    "import matplotlib.pyplot as plt\n",
    "import scipy\n"
   ]
  },
  {
   "cell_type": "markdown",
   "metadata": {},
   "source": [
    "## Plot Gaussian"
   ]
  },
  {
   "cell_type": "code",
   "execution_count": null,
   "metadata": {},
   "outputs": [],
   "source": [
    "\n",
    "def gaussian(x, mu, sigma, a):\n",
    "    return a * 1.0 / (np.sqrt(2.0 * np.pi) * sigma) * np.exp(-np.power((x - mu) / sigma, 2.0) / 2)\n",
    "n = 50 # +1\n",
    "noise = .5\n",
    "x = np.linspace(-1.,1.,50+1)\n",
    "y = gaussian(x, 0., .25, 4.,)\n",
    "y_noise = np.random.randn(*y.shape)*noise\n",
    "y_noisy = y+y_noise\n",
    "plt.plot(x,y, 'k.', label=\"true\")\n",
    "plt.plot(x,y_noisy, 'r.', label=\"noisy\")\n",
    "plt.title(\"Gaussian\")\n",
    "plt.legend()\n",
    "plt.show()\n",
    "plt.close()\n"
   ]
  },
  {
   "cell_type": "markdown",
   "metadata": {},
   "source": [
    "## Curve fit gaussian"
   ]
  },
  {
   "cell_type": "code",
   "execution_count": null,
   "metadata": {},
   "outputs": [],
   "source": [
    "\n",
    "popt, pcov = scipy.optimize.curve_fit(gaussian, x, y_noisy)\n",
    "print(f\"Optimal mu: {popt[0]:0.2f}\")\n",
    "print(f\"Optimal sigma: {popt[1]:0.2f}\")\n",
    "print(f\"Optimal amplitude: {popt[2]:0.2f}\")\n"
   ]
  },
  {
   "cell_type": "markdown",
   "metadata": {},
   "source": [
    "## Plot fitted curve"
   ]
  },
  {
   "cell_type": "code",
   "execution_count": null,
   "metadata": {},
   "outputs": [],
   "source": [
    "\n",
    "y_fitted = gaussian(x, popt[0], popt[1], popt[2])\n",
    "plt.plot(x,y_noisy, 'r.', label=\"noisy\")\n",
    "plt.plot(x,y, 'k.', label=\"true\")\n",
    "plt.plot(x,y_fitted, 'g--', label=\"true\")\n",
    "plt.title(\"Gaussian\")\n",
    "plt.legend()\n",
    "plt.show()\n",
    "plt.close()\n",
    "\n"
   ]
  }
 ],
 "metadata": {
  "kernelspec": {
   "display_name": ".venv",
   "language": "python",
   "name": "python3"
  },
  "language_info": {
   "codemirror_mode": {
    "name": "ipython",
    "version": 3
   },
   "file_extension": ".py",
   "mimetype": "text/x-python",
   "name": "python",
   "nbconvert_exporter": "python",
   "pygments_lexer": "ipython3",
   "version": "3.13.3"
  }
 },
 "nbformat": 4,
 "nbformat_minor": 2
}
